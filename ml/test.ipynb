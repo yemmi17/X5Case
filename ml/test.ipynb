{
 "cells": [
  {
   "cell_type": "code",
   "execution_count": 1,
   "metadata": {},
   "outputs": [],
   "source": [
    "import spacy"
   ]
  },
  {
   "cell_type": "code",
   "execution_count": null,
   "metadata": {},
   "outputs": [],
   "source": [
    "# !python -m spacy download ru_core_news_sm # Если не установлена"
   ]
  },
  {
   "cell_type": "code",
   "execution_count": 2,
   "metadata": {},
   "outputs": [
    {
     "name": "stderr",
     "output_type": "stream",
     "text": [
      "c:\\Users\\me\\Dev\\Python\\X5Case\\ml\\.venv\\Lib\\site-packages\\tqdm\\auto.py:21: TqdmWarning: IProgress not found. Please update jupyter and ipywidgets. See https://ipywidgets.readthedocs.io/en/stable/user_install.html\n",
      "  from .autonotebook import tqdm as notebook_tqdm\n"
     ]
    }
   ],
   "source": [
    "nlp = spacy.load(\"ru_core_news_sm\")"
   ]
  },
  {
   "cell_type": "code",
   "execution_count": null,
   "metadata": {},
   "outputs": [
    {
     "data": {
      "text/plain": [
       "True"
      ]
     },
     "execution_count": 6,
     "metadata": {},
     "output_type": "execute_result"
    }
   ],
   "source": [
    "spacy.prefer_gpu() # Используется ли ускорение на gpu"
   ]
  },
  {
   "cell_type": "code",
   "execution_count": 7,
   "metadata": {},
   "outputs": [],
   "source": [
    "text = (\"\"\"Используйте трансформерные модели, если нужна максимальная нагрузка на GPU\n",
    "Стандартные маленькие модели (_sm) часто не используют GPU по полной, для максимума берите _trf версии \n",
    "(например, ru_core_news_trf), которые построены на PyTorch и используют CUDA для ускорения.\n",
    "\"\"\")"
   ]
  },
  {
   "cell_type": "code",
   "execution_count": 8,
   "metadata": {},
   "outputs": [],
   "source": [
    "doc = nlp(text)"
   ]
  },
  {
   "cell_type": "code",
   "execution_count": 10,
   "metadata": {},
   "outputs": [
    {
     "data": {
      "text/plain": [
       "[('Используйте', 'VERB'),\n",
       " ('трансформерные', 'ADJ'),\n",
       " ('модели', 'NOUN'),\n",
       " (',', 'PUNCT'),\n",
       " ('если', 'SCONJ'),\n",
       " ('нужна', 'ADJ'),\n",
       " ('максимальная', 'ADJ'),\n",
       " ('нагрузка', 'NOUN'),\n",
       " ('на', 'ADP'),\n",
       " ('GPU', 'PROPN'),\n",
       " ('\\n', 'SPACE'),\n",
       " ('Стандартные', 'ADJ'),\n",
       " ('маленькие', 'ADJ'),\n",
       " ('модели', 'NOUN'),\n",
       " ('(', 'PUNCT'),\n",
       " ('_', 'NOUN'),\n",
       " ('sm', 'PROPN'),\n",
       " (')', 'PUNCT'),\n",
       " ('часто', 'ADV'),\n",
       " ('не', 'PART'),\n",
       " ('используют', 'VERB'),\n",
       " ('GPU', 'PROPN'),\n",
       " ('по', 'ADP'),\n",
       " ('полной', 'ADJ'),\n",
       " (',', 'PUNCT'),\n",
       " ('для', 'ADP'),\n",
       " ('максимума', 'NOUN'),\n",
       " ('берите', 'VERB'),\n",
       " ('_', 'X'),\n",
       " ('trf', 'X'),\n",
       " ('версии', 'NOUN'),\n",
       " ('\\n', 'SPACE'),\n",
       " ('(', 'PUNCT'),\n",
       " ('например', 'ADV'),\n",
       " (',', 'PUNCT'),\n",
       " ('ru_core_news_trf', 'PROPN'),\n",
       " (')', 'PUNCT'),\n",
       " (',', 'PUNCT'),\n",
       " ('которые', 'PRON'),\n",
       " ('построены', 'VERB'),\n",
       " ('на', 'ADP'),\n",
       " ('PyTorch', 'PROPN'),\n",
       " ('и', 'CCONJ'),\n",
       " ('используют', 'VERB'),\n",
       " ('CUDA', 'PROPN'),\n",
       " ('для', 'ADP'),\n",
       " ('ускорения', 'NOUN'),\n",
       " ('.', 'PUNCT'),\n",
       " ('\\n', 'SPACE')]"
      ]
     },
     "execution_count": 10,
     "metadata": {},
     "output_type": "execute_result"
    }
   ],
   "source": [
    "[(w.text, w.pos_) for w in doc]"
   ]
  },
  {
   "cell_type": "code",
   "execution_count": null,
   "metadata": {},
   "outputs": [
    {
     "name": "stdout",
     "output_type": "stream",
     "text": [
      "Verbs: ['использовать', 'использовать', 'брать', 'построить', 'использовать']\n"
     ]
    }
   ],
   "source": [
    "# Analyze syntax\n",
    "print(\"Verbs:\", [token.lemma_ for token in doc if token.pos_ == \"VERB\"])"
   ]
  },
  {
   "cell_type": "code",
   "execution_count": null,
   "metadata": {},
   "outputs": [
    {
     "data": {
      "text/plain": [
       "['tok2vec', 'morphologizer', 'parser', 'attribute_ruler', 'lemmatizer', 'ner']"
      ]
     },
     "execution_count": 12,
     "metadata": {},
     "output_type": "execute_result"
    }
   ],
   "source": [
    "nlp.pipe_names # архитектура модели"
   ]
  }
 ],
 "metadata": {
  "kernelspec": {
   "display_name": ".venv",
   "language": "python",
   "name": "python3"
  },
  "language_info": {
   "codemirror_mode": {
    "name": "ipython",
    "version": 3
   },
   "file_extension": ".py",
   "mimetype": "text/x-python",
   "name": "python",
   "nbconvert_exporter": "python",
   "pygments_lexer": "ipython3",
   "version": "3.13.2"
  }
 },
 "nbformat": 4,
 "nbformat_minor": 2
}
